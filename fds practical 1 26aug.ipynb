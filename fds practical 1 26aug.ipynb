{
  "nbformat": 4,
  "nbformat_minor": 0,
  "metadata": {
    "colab": {
      "name": "Untitled5.ipynb",
      "provenance": [],
      "authorship_tag": "ABX9TyNTK8XHSDooulNApZxNS8b6",
      "include_colab_link": true
    },
    "kernelspec": {
      "name": "python3",
      "display_name": "Python 3"
    },
    "language_info": {
      "name": "python"
    }
  },
  "cells": [
    {
      "cell_type": "markdown",
      "metadata": {
        "id": "view-in-github",
        "colab_type": "text"
      },
      "source": [
        "<a href=\"https://colab.research.google.com/github/Tasneem3614/MSC_FDS_506/blob/main/fds%20practical%201%2026aug.ipynb\" target=\"_parent\"><img src=\"https://colab.research.google.com/assets/colab-badge.svg\" alt=\"Open In Colab\"/></a>"
      ]
    },
    {
      "cell_type": "code",
      "execution_count": 5,
      "metadata": {
        "colab": {
          "base_uri": "https://localhost:8080/"
        },
        "id": "Kuk-Oq39DTZr",
        "outputId": "5581c228-4833-4373-8edc-cd431171eea9"
      },
      "outputs": [
        {
          "output_type": "stream",
          "name": "stdout",
          "text": [
            "('AB', 'Amphispiza', 'bilineata', 'Bird')\n",
            "('AH', 'Ammospermophilus', 'harrisi', 'Rodent')\n",
            "('AS', 'Ammodramus', 'savannarum', 'Bird')\n",
            "('BA', 'Baiomys', 'taylori', 'Rodent')\n",
            "('CB', 'Campylorhynchus', 'brunneicapillus', 'Bird')\n",
            "('CM', 'Calamospiza', 'melanocorys', 'Bird')\n",
            "('CQ', 'Callipepla', 'squamata', 'Bird')\n",
            "('CS', 'Crotalus', 'scutalatus', 'Reptile')\n",
            "('CT', 'Cnemidophorus', 'tigris', 'Reptile')\n",
            "('CU', 'Cnemidophorus', 'uniparens', 'Reptile')\n",
            "('CV', 'Crotalus', 'viridis', 'Reptile')\n",
            "('DM', 'Dipodomys', 'merriami', 'Rodent')\n",
            "('DO', 'Dipodomys', 'ordii', 'Rodent')\n",
            "('DS', 'Dipodomys', 'spectabilis', 'Rodent')\n",
            "('DX', 'Dipodomys', 'sp.', 'Rodent')\n",
            "('EO', 'Eumeces', 'obsoletus', 'Reptile')\n",
            "('GS', 'Gambelia', 'silus', 'Reptile')\n",
            "('NL', 'Neotoma', 'albigula', 'Rodent')\n",
            "('NX', 'Neotoma', 'sp.', 'Rodent')\n",
            "('OL', 'Onychomys', 'leucogaster', 'Rodent')\n",
            "('OT', 'Onychomys', 'torridus', 'Rodent')\n",
            "('OX', 'Onychomys', 'sp.', 'Rodent')\n",
            "('PB', 'Chaetodipus', 'baileyi', 'Rodent')\n",
            "('PC', 'Pipilo', 'chlorurus', 'Bird')\n",
            "('PE', 'Peromyscus', 'eremicus', 'Rodent')\n",
            "('PF', 'Perognathus', 'flavus', 'Rodent')\n",
            "('PG', 'Pooecetes', 'gramineus', 'Bird')\n",
            "('PH', 'Perognathus', 'hispidus', 'Rodent')\n",
            "('PI', 'Chaetodipus', 'intermedius', 'Rodent')\n",
            "('PL', 'Peromyscus', 'leucopus', 'Rodent')\n",
            "('PM', 'Peromyscus', 'maniculatus', 'Rodent')\n",
            "('PP', 'Chaetodipus', 'penicillatus', 'Rodent')\n",
            "('PU', 'Pipilo', 'fuscus', 'Bird')\n",
            "('PX', 'Chaetodipus', 'sp.', 'Rodent')\n",
            "('RF', 'Reithrodontomys', 'fulvescens', 'Rodent')\n",
            "('RM', 'Reithrodontomys', 'megalotis', 'Rodent')\n",
            "('RO', 'Reithrodontomys', 'montanus', 'Rodent')\n",
            "('RX', 'Reithrodontomys', 'sp.', 'Rodent')\n",
            "('SA', 'Sylvilagus', 'audubonii', 'Rabbit')\n",
            "('SB', 'Spizella', 'breweri', 'Bird')\n",
            "('SC', 'Sceloporus', 'clarki', 'Reptile')\n",
            "('SF', 'Sigmodon', 'fulviventer', 'Rodent')\n",
            "('SH', 'Sigmodon', 'hispidus', 'Rodent')\n",
            "('SO', 'Sigmodon', 'ochrognathus', 'Rodent')\n",
            "('SS', 'Spermophilus', 'spilosoma', 'Rodent')\n",
            "('ST', 'Spermophilus', 'tereticaudus', 'Rodent')\n",
            "('SU', 'Sceloporus', 'undulatus', 'Reptile')\n",
            "('SX', 'Sigmodon', 'sp.', 'Rodent')\n",
            "('UL', 'Lizard', 'sp.', 'Reptile')\n",
            "('UP', 'Pipilo', 'sp.', 'Bird')\n",
            "('UR', 'Rodent', 'sp.', 'Rodent')\n",
            "('US', 'Sparrow', 'sp.', 'Bird')\n",
            "('ZL', 'Zonotrichia', 'leucophrys', 'Bird')\n",
            "('ZM', 'Zenaida', 'macroura', 'Bird')\n"
          ]
        }
      ],
      "source": [
        "import sqlite3\n",
        "con=sqlite3.connect(\"portal_mammals.sqlite\")\n",
        "cur=con.cursor()\n",
        "\n",
        "for row in cur.execute('select * from species;'):\n",
        "  print(row)\n"
      ]
    },
    {
      "cell_type": "code",
      "source": [
        "import sqlite3\n",
        "con=sqlite3.connect(\"portal_mammals.sqlite\")\n",
        "cur=con.cursor()\n",
        "cur.execute('SELECT PLOT_ID from plots WHERE plot_type=\"control\"')\n",
        "print(cur.fetchall())\n",
        "cur.execute('SELECT species FROM species WHERE taxa=\"Bird\"')\n",
        "print(cur.fetchone())\n",
        "con.close()"
      ],
      "metadata": {
        "colab": {
          "base_uri": "https://localhost:8080/"
        },
        "id": "GIprzgTgHoMm",
        "outputId": "581252be-8d58-4409-a4bf-a3fb15099e87"
      },
      "execution_count": 9,
      "outputs": [
        {
          "output_type": "stream",
          "name": "stdout",
          "text": [
            "[]\n",
            "('bilineata',)\n"
          ]
        }
      ]
    }
  ]
}